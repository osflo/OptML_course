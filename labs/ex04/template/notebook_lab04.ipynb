{
 "cells": [
  {
   "cell_type": "code",
   "execution_count": 1,
   "metadata": {},
   "outputs": [],
   "source": [
    "# Useful starting lines\n",
    "%matplotlib inline\n",
    "import numpy as np\n",
    "import matplotlib.pyplot as plt\n",
    "try:\n",
    "    import google.colab\n",
    "    IN_COLAB = True\n",
    "except:\n",
    "    IN_COLAB = False\n",
    "if IN_COLAB:\n",
    "    # Clone the entire repo to access the files.\n",
    "    !git clone -l -s https://github.com/epfml/OptML_course.git cloned-repo\n",
    "    %cd cloned-repo/labs/ex04/template/\n",
    "\n",
    "from helpers import *\n",
    "%load_ext autoreload\n",
    "%autoreload 2"
   ]
  },
  {
   "cell_type": "markdown",
   "metadata": {},
   "source": [
    "# Random Walks"
   ]
  },
  {
   "attachments": {},
   "cell_type": "markdown",
   "metadata": {},
   "source": [
    "In this exercise you will implement a simple random walk on a torus graph and will check its convergence to uniform distribution.\n",
    "\n",
    "Torus is a 2D-grid graph and looks like a 'doughnout', as shown in the picture below. \n",
    "<img src=\"torus_topology.png\" alt=\"Drawing\" style=\"width: 200px;\"/>"
   ]
  },
  {
   "cell_type": "markdown",
   "metadata": {},
   "source": [
    "**Note:** We will use the networkx library to generate our graph. You can install this using\n",
    "\n",
    "```bash\n",
    "    pip3 install --upgrade --user networkx\n",
    "```\n",
    "\n",
    "Let's generate the probability matrix $\\mathbf{G}$ of a torus graph of size $4\\times 4$, note that we include self-loops too. You can play around with the code in the helpers.py to generate different graphs."
   ]
  },
  {
   "cell_type": "code",
   "execution_count": 3,
   "metadata": {},
   "outputs": [
    {
     "name": "stderr",
     "output_type": "stream",
     "text": [
      "c:\\Users\\fosmo\\OneDrive\\Documents\\GitHub\\OptML_course\\labs\\ex04\\template\\helpers.py:8: FutureWarning: adjacency_matrix will return a scipy.sparse array instead of a matrix in Networkx 3.0.\n",
      "  A = networkx.adjacency_matrix(G).toarray()\n"
     ]
    },
    {
     "ename": "AttributeError",
     "evalue": "module 'scipy.sparse' has no attribute 'coo_array'",
     "output_type": "error",
     "traceback": [
      "\u001b[1;31m---------------------------------------------------------------------------\u001b[0m",
      "\u001b[1;31mAttributeError\u001b[0m                            Traceback (most recent call last)",
      "Cell \u001b[1;32mIn[3], line 2\u001b[0m\n\u001b[0;32m      1\u001b[0m n_nodes \u001b[39m=\u001b[39m \u001b[39m16\u001b[39m\n\u001b[1;32m----> 2\u001b[0m A \u001b[39m=\u001b[39m generate_torus_adj_matrix(n_nodes)\n\u001b[0;32m      3\u001b[0m degree \u001b[39m=\u001b[39m\u001b[39m4\u001b[39m \u001b[39m# fill in here the degree of a node in the graph\u001b[39;00m\n\u001b[0;32m      4\u001b[0m G \u001b[39m=\u001b[39m A\u001b[39m/\u001b[39mdegree\n",
      "File \u001b[1;32mc:\\Users\\fosmo\\OneDrive\\Documents\\GitHub\\OptML_course\\labs\\ex04\\template\\helpers.py:8\u001b[0m, in \u001b[0;36mgenerate_torus_adj_matrix\u001b[1;34m(n_nodes)\u001b[0m\n\u001b[0;32m      6\u001b[0m G \u001b[39m=\u001b[39m networkx\u001b[39m.\u001b[39mgenerators\u001b[39m.\u001b[39mlattice\u001b[39m.\u001b[39mgrid_2d_graph(\u001b[39mint\u001b[39m(np\u001b[39m.\u001b[39msqrt(n_nodes)), \u001b[39mint\u001b[39m(np\u001b[39m.\u001b[39msqrt(n_nodes)), periodic\u001b[39m=\u001b[39m\u001b[39mTrue\u001b[39;00m)\n\u001b[0;32m      7\u001b[0m \u001b[39m# Adjacency matrix\u001b[39;00m\n\u001b[1;32m----> 8\u001b[0m A \u001b[39m=\u001b[39m networkx\u001b[39m.\u001b[39;49madjacency_matrix(G)\u001b[39m.\u001b[39mtoarray()\n\u001b[0;32m     10\u001b[0m \u001b[39m# Add self-loops\u001b[39;00m\n\u001b[0;32m     11\u001b[0m \u001b[39mfor\u001b[39;00m i \u001b[39min\u001b[39;00m \u001b[39mrange\u001b[39m(\u001b[39m0\u001b[39m, A\u001b[39m.\u001b[39mshape[\u001b[39m0\u001b[39m]):\n",
      "File \u001b[1;32md:\\logiciel\\miniconda\\lib\\site-packages\\networkx\\linalg\\graphmatrix.py:173\u001b[0m, in \u001b[0;36madjacency_matrix\u001b[1;34m(G, nodelist, dtype, weight)\u001b[0m\n\u001b[0;32m    167\u001b[0m warnings\u001b[39m.\u001b[39mwarn(\n\u001b[0;32m    168\u001b[0m     \u001b[39m\"\u001b[39m\u001b[39madjacency_matrix will return a scipy.sparse array instead of a matrix in Networkx 3.0.\u001b[39m\u001b[39m\"\u001b[39m,\n\u001b[0;32m    169\u001b[0m     \u001b[39mFutureWarning\u001b[39;00m,\n\u001b[0;32m    170\u001b[0m     stacklevel\u001b[39m=\u001b[39m\u001b[39m2\u001b[39m,\n\u001b[0;32m    171\u001b[0m )\n\u001b[0;32m    172\u001b[0m \u001b[39m# TODO: Change to `to_scipy_sparse_array` for networkx 3.0\u001b[39;00m\n\u001b[1;32m--> 173\u001b[0m \u001b[39mreturn\u001b[39;00m nx\u001b[39m.\u001b[39;49mto_scipy_sparse_matrix(G, nodelist\u001b[39m=\u001b[39;49mnodelist, dtype\u001b[39m=\u001b[39;49mdtype, weight\u001b[39m=\u001b[39;49mweight)\n",
      "File \u001b[1;32md:\\logiciel\\miniconda\\lib\\site-packages\\networkx\\convert_matrix.py:1021\u001b[0m, in \u001b[0;36mto_scipy_sparse_matrix\u001b[1;34m(G, nodelist, dtype, weight, format)\u001b[0m\n\u001b[0;32m   1011\u001b[0m \u001b[39mimport\u001b[39;00m \u001b[39mscipy\u001b[39;00m\u001b[39m.\u001b[39;00m\u001b[39msparse\u001b[39;00m\n\u001b[0;32m   1013\u001b[0m warnings\u001b[39m.\u001b[39mwarn(\n\u001b[0;32m   1014\u001b[0m     (\n\u001b[0;32m   1015\u001b[0m         \u001b[39m\"\u001b[39m\u001b[39m\\n\u001b[39;00m\u001b[39m\\n\u001b[39;00m\u001b[39mThe scipy.sparse array containers will be used instead of matrices\u001b[39m\u001b[39m\\n\u001b[39;00m\u001b[39m\"\u001b[39m\n\u001b[1;32m   (...)\u001b[0m\n\u001b[0;32m   1019\u001b[0m     stacklevel\u001b[39m=\u001b[39m\u001b[39m2\u001b[39m,\n\u001b[0;32m   1020\u001b[0m )\n\u001b[1;32m-> 1021\u001b[0m A \u001b[39m=\u001b[39m to_scipy_sparse_array(\n\u001b[0;32m   1022\u001b[0m     G, nodelist\u001b[39m=\u001b[39;49mnodelist, dtype\u001b[39m=\u001b[39;49mdtype, weight\u001b[39m=\u001b[39;49mweight, \u001b[39mformat\u001b[39;49m\u001b[39m=\u001b[39;49m\u001b[39mformat\u001b[39;49m\n\u001b[0;32m   1023\u001b[0m )\n\u001b[0;32m   1024\u001b[0m \u001b[39mreturn\u001b[39;00m sp\u001b[39m.\u001b[39msparse\u001b[39m.\u001b[39mcsr_matrix(A)\u001b[39m.\u001b[39masformat(\u001b[39mformat\u001b[39m)\n",
      "File \u001b[1;32md:\\logiciel\\miniconda\\lib\\site-packages\\networkx\\convert_matrix.py:923\u001b[0m, in \u001b[0;36mto_scipy_sparse_array\u001b[1;34m(G, nodelist, dtype, weight, format)\u001b[0m\n\u001b[0;32m    921\u001b[0m         r \u001b[39m+\u001b[39m\u001b[39m=\u001b[39m diag_index\n\u001b[0;32m    922\u001b[0m         c \u001b[39m+\u001b[39m\u001b[39m=\u001b[39m diag_index\n\u001b[1;32m--> 923\u001b[0m     A \u001b[39m=\u001b[39m sp\u001b[39m.\u001b[39;49msparse\u001b[39m.\u001b[39;49mcoo_array((d, (r, c)), shape\u001b[39m=\u001b[39m(nlen, nlen), dtype\u001b[39m=\u001b[39mdtype)\n\u001b[0;32m    924\u001b[0m \u001b[39mtry\u001b[39;00m:\n\u001b[0;32m    925\u001b[0m     \u001b[39mreturn\u001b[39;00m A\u001b[39m.\u001b[39masformat(\u001b[39mformat\u001b[39m)\n",
      "\u001b[1;31mAttributeError\u001b[0m: module 'scipy.sparse' has no attribute 'coo_array'"
     ]
    }
   ],
   "source": [
    "n_nodes = 16\n",
    "A = generate_torus_adj_matrix(n_nodes)\n",
    "degree =4 # fill in here the degree of a node in the graph\n",
    "G = A/degree"
   ]
  },
  {
   "cell_type": "markdown",
   "metadata": {},
   "source": [
    "Lets generate initial probabitily distribution. Recall that our walk always starts from the node 1."
   ]
  },
  {
   "cell_type": "code",
   "execution_count": null,
   "metadata": {},
   "outputs": [],
   "source": [
    "x_init = np.zeros(n_nodes)# fill in here\n",
    "x_init[0]=1"
   ]
  },
  {
   "cell_type": "markdown",
   "metadata": {},
   "source": [
    "As you will prove in Q2, probability distribution at each step evolves as $x_{t + 1} = G x_{t}$. "
   ]
  },
  {
   "cell_type": "code",
   "execution_count": null,
   "metadata": {},
   "outputs": [],
   "source": [
    "def random_walk(G, x_init, num_iter):\n",
    "    ''' Computes probability distribution of random walk after\n",
    "        num_iter steps.\n",
    "        Output: \n",
    "        x: final estimate of probability distribution after\n",
    "            num_iter steps\n",
    "        errors: array of differences ||x_{t} - mu||_2^2, where\n",
    "            mu is uniform distribution\n",
    "    '''\n",
    "    x = np.copy(x_init)\n",
    "    errors = np.zeros(num_iter)\n",
    "    mu = # fill in here\n",
    "    for t in range(0, num_iter):\n",
    "        # ***************************************************\n",
    "        # INSERT YOUR CODE HERE\n",
    "        # TODO: simulate probability distribution in random walk\n",
    "        # ***************************************************\n",
    "    return x, errors"
   ]
  },
  {
   "cell_type": "markdown",
   "metadata": {},
   "source": [
    "Lets run our algorithm for 50 iterations and see at the final probability distribution."
   ]
  },
  {
   "cell_type": "code",
   "execution_count": null,
   "metadata": {},
   "outputs": [],
   "source": [
    "x, errors = random_walk(G, x_init, num_iter=50)\n",
    "plt.bar(np.arange(len(x)), x)\n",
    "plt.xlabel(\"node\")\n",
    "plt.ylabel(\"probability\")"
   ]
  },
  {
   "cell_type": "markdown",
   "metadata": {},
   "source": [
    "We see that the final disctribution is indeed uniform. Lets now plot how fast did the algorithm converge. We will use logarithmic scale on y-axis to be able to distinguish between sublinear and linear rates."
   ]
  },
  {
   "cell_type": "code",
   "execution_count": null,
   "metadata": {},
   "outputs": [],
   "source": [
    "plt.semilogy(errors)\n",
    "plt.xlabel(\"iteration\")\n",
    "plt.ylabel(\"$||x_{t} - mu||_2^2$\")"
   ]
  }
 ],
 "metadata": {
  "anaconda-cloud": {},
  "kernelspec": {
   "display_name": "Python 3",
   "language": "python",
   "name": "python3"
  },
  "language_info": {
   "codemirror_mode": {
    "name": "ipython",
    "version": 3
   },
   "file_extension": ".py",
   "mimetype": "text/x-python",
   "name": "python",
   "nbconvert_exporter": "python",
   "pygments_lexer": "ipython3",
   "version": "3.9.16"
  },
  "widgets": {
   "state": {
    "d2b2c3aea192430e81437f33ba0b0e69": {
     "views": [
      {
       "cell_index": 22
      }
     ]
    },
    "e4a6a7a70ccd42ddb112989c04f2ed3f": {
     "views": [
      {
       "cell_index": 18
      }
     ]
    }
   },
   "version": "1.2.0"
  }
 },
 "nbformat": 4,
 "nbformat_minor": 1
}
